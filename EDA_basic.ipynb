{
 "cells": [
  {
   "cell_type": "markdown",
   "metadata": {},
   "source": [
    "## **Step1:- Importing The required Libraries**\n",
    "- Numpy\n",
    "- Pandas\n",
    "- MatplotLib\n",
    "- Seaborn"
   ]
  },
  {
   "cell_type": "markdown",
   "metadata": {},
   "source": [
    "# **EDA BASIC**"
   ]
  },
  {
   "cell_type": "code",
   "execution_count": null,
   "metadata": {},
   "outputs": [],
   "source": [
    "import numpy as np\n",
    "import pandas as pd\n",
    "from matplotlib import pyplot as plt\n",
    "import seaborn as sns"
   ]
  },
  {
   "cell_type": "markdown",
   "metadata": {},
   "source": [
    "## **Step2:- Loading The Datasets**\n",
    "- one is fifa dataset and other is iris which is available in seaborn library"
   ]
  },
  {
   "cell_type": "code",
   "execution_count": null,
   "metadata": {},
   "outputs": [],
   "source": [
    "df = pd.read_csv('fifa_eda.csv')\n",
    "df2 = sns.load_dataset('iris')"
   ]
  },
  {
   "cell_type": "code",
   "execution_count": null,
   "metadata": {},
   "outputs": [],
   "source": [
    "df.info()\n",
    "df.head()"
   ]
  },
  {
   "cell_type": "code",
   "execution_count": null,
   "metadata": {},
   "outputs": [],
   "source": [
    "df2.info()\n",
    "df2.head()"
   ]
  },
  {
   "cell_type": "markdown",
   "metadata": {},
   "source": [
    "# **Handeling Missing Values**\n",
    "1- Deleting the rows and columns with missing data"
   ]
  },
  {
   "cell_type": "code",
   "execution_count": null,
   "metadata": {},
   "outputs": [],
   "source": [
    "print(df.isnull().sum())"
   ]
  },
  {
   "cell_type": "code",
   "execution_count": null,
   "metadata": {},
   "outputs": [],
   "source": [
    "print(df2.isnull().sum())"
   ]
  },
  {
   "cell_type": "code",
   "execution_count": null,
   "metadata": {},
   "outputs": [],
   "source": [
    "update_df = df.dropna(axis=1)\n",
    "update_df.info()\n",
    "update_df.head()"
   ]
  },
  {
   "cell_type": "markdown",
   "metadata": {},
   "source": [
    "### *All columns with missing values are now deleted*"
   ]
  },
  {
   "cell_type": "code",
   "execution_count": null,
   "metadata": {},
   "outputs": [],
   "source": [
    "update_df = df.dropna(axis=0)\n",
    "update_df.info()"
   ]
  },
  {
   "cell_type": "markdown",
   "metadata": {},
   "source": [
    "### *All rows with missing values are now deleted*"
   ]
  },
  {
   "cell_type": "markdown",
   "metadata": {},
   "source": [
    "## **NOTE:-**\n",
    "***By using above methods we can also lose some useful data, In that case we use some other methods to handel the missing values such as***\n",
    "- Filling the mean/median or unknown values in place of missing values that depends on data type\n",
    "- forward and backward filling\n",
    "- we use fillna() function "
   ]
  },
  {
   "cell_type": "code",
   "execution_count": null,
   "metadata": {},
   "outputs": [],
   "source": [
    "df.head()"
   ]
  },
  {
   "cell_type": "code",
   "execution_count": null,
   "metadata": {},
   "outputs": [],
   "source": [
    "df['Value'].mean()"
   ]
  },
  {
   "cell_type": "code",
   "execution_count": null,
   "metadata": {},
   "outputs": [],
   "source": [
    "df['Value'].median()"
   ]
  },
  {
   "cell_type": "code",
   "execution_count": null,
   "metadata": {},
   "outputs": [],
   "source": [
    "#fillna: fill the null records\n",
    "#dropna: deletes the null records\n",
    "\n",
    "updated_df = df\n",
    "\n",
    "updated_df['Club'] = updated_df['Club'].fillna('Unknown')\n",
    "\n",
    "updated_df['Value']=updated_df['Value'].fillna(df['Value'].mean())\n",
    "#                    or\n",
    "updated_df['Value']=updated_df['Value'].fillna(df['Value'].median())\n",
    "\n",
    "updated_df['International Reputation']=updated_df['International Reputation'].fillna(df['International Reputation'].mean())\n",
    "#                    or\n",
    "updated_df['International Reputation']=updated_df['International Reputation'].fillna(df['International Reputation'].median())\n",
    "\n",
    "updated_df['Skill Moves']=updated_df['Skill Moves'].fillna(df['Skill Moves'].mean())\n",
    "#                    or\n",
    "updated_df['Skill Moves']=updated_df['Skill Moves'].fillna(df['Skill Moves'].median())\n",
    "\n",
    "updated_df['Contract Valid Until'] = updated_df['Contract Valid Until'].fillna('Unknown')\n",
    "\n",
    "'''\n",
    "For Numeric values use mean() or median()\n",
    "and for string value use fillna('Unknown')\n",
    "'''\n",
    "\n",
    "updated_df.info()"
   ]
  },
  {
   "cell_type": "code",
   "execution_count": null,
   "metadata": {},
   "outputs": [],
   "source": [
    "print(updated_df.isnull().sum())"
   ]
  },
  {
   "cell_type": "markdown",
   "metadata": {},
   "source": [
    "### **By usinf this method, The missing values are filled = data has no null values**"
   ]
  },
  {
   "cell_type": "code",
   "execution_count": null,
   "metadata": {},
   "outputs": [],
   "source": [
    "df = pd.read_csv('fifa_eda.csv')\n",
    "df1 = df\n",
    "df1.info()"
   ]
  },
  {
   "cell_type": "code",
   "execution_count": null,
   "metadata": {},
   "outputs": [],
   "source": [
    "df1['Club']=df1['Club'].bfill()\n",
    "df1.info()"
   ]
  },
  {
   "cell_type": "code",
   "execution_count": null,
   "metadata": {},
   "outputs": [],
   "source": [
    "df1['Value']=df1['Value'].ffill()\n",
    "df1['International Reputation']=df1['International Reputation'].bfill()\n",
    "df1['Skill Moves']=df1['Skill Moves'].ffill()\n",
    "df1['Contract Valid Until']=df1['Contract Valid Until'].bfill()\n",
    "df1.info()"
   ]
  },
  {
   "cell_type": "markdown",
   "metadata": {},
   "source": [
    "## **Feature Scaling**"
   ]
  },
  {
   "cell_type": "markdown",
   "metadata": {},
   "source": [
    "### **1:- Standardization**"
   ]
  }
 ],
 "metadata": {
  "kernelspec": {
   "display_name": "Python 3",
   "language": "python",
   "name": "python3"
  },
  "language_info": {
   "codemirror_mode": {
    "name": "ipython",
    "version": 3
   },
   "file_extension": ".py",
   "mimetype": "text/x-python",
   "name": "python",
   "nbconvert_exporter": "python",
   "pygments_lexer": "ipython3",
   "version": "3.12.3"
  }
 },
 "nbformat": 4,
 "nbformat_minor": 2
}
